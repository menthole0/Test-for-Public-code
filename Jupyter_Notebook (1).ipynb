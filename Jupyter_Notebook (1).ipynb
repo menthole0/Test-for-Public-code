{
 "cells": [
  {
   "cell_type": "markdown",
   "metadata": {},
   "source": [
    "<center>\n",
    "    <img src=\"https://cf-courses-data.s3.us.cloud-object-storage.appdomain.cloud/IBMDeveloperSkillsNetwork-DS0105EN-SkillsNetwork/labs/Module2/images/SN_web_lightmode.png\" width=\"300\" alt=\"cognitiveclass.ai logo\"  />\n",
    "</center>\n"
   ]
  },
  {
   "cell_type": "markdown",
   "metadata": {},
   "source": [
    "#### Add your code below following the instructions given in the course\n"
   ]
  },
  {
   "cell_type": "markdown",
   "metadata": {},
   "source": [
    "# My Jupyter Notebook on IBM Watson Studio"
   ]
  },
  {
   "cell_type": "markdown",
   "metadata": {},
   "source": [
    "My name is <u>**Keisuke Yagi**</u>  \n",
    "My current occupation is a Mechanical engineer and I want to be a data scientist in manufacturing area."
   ]
  },
  {
   "cell_type": "markdown",
   "metadata": {},
   "source": [
    "I am interested in data science because I think data science can create many solutions for current manufacturing issues toward realizing a circular economy.  \n",
    "For example, carbon neutrality, recyclable material usage, skill less working in manufacturing and less manpower resource on manufacturing field & etc."
   ]
  },
  {
   "cell_type": "markdown",
   "metadata": {},
   "source": [
    "### This code is to execute drawing the circle which is located (0,0) and radius 2."
   ]
  },
  {
   "cell_type": "code",
   "execution_count": 5,
   "metadata": {},
   "outputs": [
    {
     "data": {
      "image/png": "[encoded data removed]",
      "text/plain": [
       "<Figure size 432x288 with 1 Axes>"
      ]
     },
     "metadata": {
      "needs_background": "light"
     },
     "output_type": "display_data"
    }
   ],
   "source": [
    "import numpy as np\n",
    "import matplotlib.pyplot as plt\n",
    "\n",
    "x = np.linspace(-2.5, 2.5, 100)\n",
    "y = np.linspace(-2.5, 2.5, 100)\n",
    "\n",
    "a, b = np.meshgrid(x, y)\n",
    "\n",
    "C = a**2+b**2-4.0\n",
    "\n",
    "figure, axes = plt.subplots()\n",
    "\n",
    "axes.contour(a,b,C,[0])\n",
    "axes.set_aspect(1)\n",
    "\n",
    "plt.show()"
   ]
  },
  {
   "cell_type": "markdown",
   "metadata": {},
   "source": [
    "1. This is a Big tech company information table\n",
    "---\n",
    "|**Name**|Google|Amazon|Microsoft|Apple|~~Facebook~~ => Meta|\n",
    "|:--|:--:|:--:|:--:|:--:|:--:|\n",
    "|**web link**|[Google](http://google.com/)|[Amazon](https://www.amazon.com/)|[Microsoft](https://www.microsoft.com/)|[Apple](https://www.apple.com/)|[Meta](https://about.meta.com/)|\n",
    "|**Company Logo**|<img src = \"https://upload.wikimedia.org/wikipedia/commons/2/2f/Google_2015_logo.svg\"　alt =\"google\" width=\"193\" height=\"130\">|<img src = \"https://upload.wikimedia.org/wikipedia/commons/a/a9/Amazon_logo.svg\"　alt =\"amazon\" width=\"193\" height=\"130\">|<img src =\"https://upload.wikimedia.org/wikipedia/commons/9/96/Microsoft_logo_%282012%29.svg\"　alt =\"Microsoft\" width=\"193\" height=\"130\">|<img src =\"https://upload.wikimedia.org/wikipedia/commons/thumb/1/1b/Apple_logo_grey.svg/202px-Apple_logo_grey.svg.png\"　alt =\"Apple\" width=\"193\" height=\"130\">|<img src =\"https://upload.wikimedia.org/wikipedia/commons/e/e4/Meta_Inc._logo.jpg\"　alt =\"Meta\" width=\"193\" height=\"130\">\n"
   ]
  }
 ],
 "metadata": {
  "kernelspec": {
   "display_name": "Python 3 (ipykernel)",
   "language": "python",
   "name": "python3"
  },
  "language_info": {
   "codemirror_mode": {
    "name": "ipython",
    "version": 3
   },
   "file_extension": ".py",
   "mimetype": "text/x-python",
   "name": "python",
   "nbconvert_exporter": "python",
   "pygments_lexer": "ipython3",
   "version": "3.9.7"
  }
 },
 "nbformat": 4,
 "nbformat_minor": 4
}
